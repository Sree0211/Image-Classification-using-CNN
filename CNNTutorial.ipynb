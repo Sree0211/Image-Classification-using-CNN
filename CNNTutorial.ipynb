{
 "cells": [
  {
   "cell_type": "code",
   "execution_count": 2,
   "metadata": {},
   "outputs": [
    {
     "name": "stderr",
     "output_type": "stream",
     "text": [
      "/Users/sreenathswaminathan/Desktop/Uni-Docs/Autonomous fahren kurs/CV Project/Pytorch_Project/.venv/lib/python3.9/site-packages/urllib3/__init__.py:34: NotOpenSSLWarning: urllib3 v2.0 only supports OpenSSL 1.1.1+, currently the 'ssl' module is compiled with 'LibreSSL 2.8.3'. See: https://github.com/urllib3/urllib3/issues/3020\n",
      "  warnings.warn(\n"
     ]
    }
   ],
   "source": [
    "import os\n",
    "import numpy as np\n",
    "import torchvision\n",
    "import torch\n",
    "import cv2\n",
    "from tqdm import tqdm"
   ]
  },
  {
   "cell_type": "code",
   "execution_count": 29,
   "metadata": {},
   "outputs": [],
   "source": [
    "# from io import StringIO, BytesIO, TextIOWrapper\n",
    "from zipfile import ZipFile \n",
    "\n",
    "# dataset = 'kagglewolvessanddogs_5340.zip'\n",
    "# zipfile = ZipFile(BytesIO(dataset.read()))\n",
    "with ZipFile('archive.zip','r') as zip_ref:\n",
    "    zip_ref.extractall('UpdatedDataset')\n"
   ]
  },
  {
   "cell_type": "code",
   "execution_count": 1,
   "metadata": {},
   "outputs": [
    {
     "name": "stdout",
     "output_type": "stream",
     "text": [
      "UpdatedDataset/data/wolves\n"
     ]
    },
    {
     "ename": "NameError",
     "evalue": "name 'tqdm' is not defined",
     "output_type": "error",
     "traceback": [
      "\u001b[0;31m---------------------------------------------------------------------------\u001b[0m",
      "\u001b[0;31mNameError\u001b[0m                                 Traceback (most recent call last)",
      "Cell \u001b[0;32mIn[1], line 62\u001b[0m\n\u001b[1;32m     60\u001b[0m \u001b[39mif\u001b[39;00m REBUILD_DATA:\n\u001b[1;32m     61\u001b[0m     DogsVsWolves \u001b[39m=\u001b[39m DogsVsWolves()\n\u001b[0;32m---> 62\u001b[0m     DogsVsWolves\u001b[39m.\u001b[39;49mmake_training_data()\n",
      "Cell \u001b[0;32mIn[1], line 19\u001b[0m, in \u001b[0;36mDogsVsWolves.make_training_data\u001b[0;34m(self)\u001b[0m\n\u001b[1;32m     17\u001b[0m \u001b[39mfor\u001b[39;00m label \u001b[39min\u001b[39;00m \u001b[39mself\u001b[39m\u001b[39m.\u001b[39mLABELS:\n\u001b[1;32m     18\u001b[0m     \u001b[39mprint\u001b[39m(label)\n\u001b[0;32m---> 19\u001b[0m     \u001b[39mfor\u001b[39;00m f \u001b[39min\u001b[39;00m tqdm(os\u001b[39m.\u001b[39mlistdir(label)):\n\u001b[1;32m     20\u001b[0m         \u001b[39mtry\u001b[39;00m:    \n\u001b[1;32m     21\u001b[0m             path \u001b[39m=\u001b[39m os\u001b[39m.\u001b[39mpath\u001b[39m.\u001b[39mjoin(label,f)\n",
      "\u001b[0;31mNameError\u001b[0m: name 'tqdm' is not defined"
     ]
    }
   ],
   "source": [
    "REBUILD_DATA = True\n",
    "\n",
    "training_data =[]\n",
    "\n",
    "class DogsVsWolves():\n",
    "    IMG_SIZE = 60\n",
    "    Dogs = \"UpdatedDataset/data/dogs\"\n",
    "    Wolves = \"UpdatedDataset/data/wolves\"\n",
    "    LABELS = {Wolves: 0, Dogs: 1}\n",
    "\n",
    "    \n",
    "    Dog_count = 0\n",
    "    Wolves_count = 0\n",
    "\n",
    "    \n",
    "    def make_training_data(self):\n",
    "        for label in self.LABELS:\n",
    "            print(label)\n",
    "            for f in tqdm(os.listdir(label)):\n",
    "                try:    \n",
    "                    path = os.path.join(label,f)\n",
    "                    # print(path)\n",
    "\n",
    "                    img = cv2.imread(path, cv2.IMREAD_GRAYSCALE)\n",
    "\n",
    "                    try:\n",
    "                        img = cv2.resize(img,(self.IMG_SIZE, self.IMG_SIZE))\n",
    "                    except cv2.error as e:\n",
    "                        # print(\"Configure error\")\n",
    "                        continue\n",
    "\n",
    "                    label_encoded = np.eye(2)[self.LABELS[label]]\n",
    "                    \n",
    "                    # Ensure img is a 2D array\n",
    "                    img = np.array(img)\n",
    "                    \n",
    "                    \n",
    "                    try:\n",
    "                        training_data.append([img, label_encoded])\n",
    "                        # print(self.training_data)\n",
    "                    except cv2.error as e:\n",
    "                        pass\n",
    "\n",
    "                    if label == self.Wolves:\n",
    "                        self.Wolves_count += 1\n",
    "                    elif label == self.Dogs:\n",
    "                        self.Dog_count += 1\n",
    "\n",
    "                except Exception as e:\n",
    "                    # print(f\"Error loading image: {path} - {str(e)}\")\n",
    "                    pass\n",
    "\n",
    "        np.random.shuffle(training_data)\n",
    "        # print(self.training_data)\n",
    "        np.save(\"training_data.npy\", training_data)\n",
    "        print(\"Wolves\", self.Wolves_count)\n",
    "        print(\"Dogs\", self.Dog_count)\n",
    "\n",
    "\n",
    "if REBUILD_DATA:\n",
    "    DogsVsWolves = DogsVsWolves()\n",
    "    DogsVsWolves.make_training_data()\n"
   ]
  },
  {
   "cell_type": "code",
   "execution_count": 52,
   "metadata": {},
   "outputs": [
    {
     "ename": "EOFError",
     "evalue": "No data left in file",
     "output_type": "error",
     "traceback": [
      "\u001b[0;31m---------------------------------------------------------------------------\u001b[0m",
      "\u001b[0;31mEOFError\u001b[0m                                  Traceback (most recent call last)",
      "Cell \u001b[0;32mIn[52], line 1\u001b[0m\n\u001b[0;32m----> 1\u001b[0m training_data \u001b[39m=\u001b[39m np\u001b[39m.\u001b[39;49mload(\u001b[39m\"\u001b[39;49m\u001b[39mtraining_data.npy\u001b[39;49m\u001b[39m\"\u001b[39;49m, allow_pickle\u001b[39m=\u001b[39;49m\u001b[39mTrue\u001b[39;49;00m)\n\u001b[1;32m      2\u001b[0m \u001b[39mprint\u001b[39m(\u001b[39mlen\u001b[39m(training_data))\n",
      "File \u001b[0;32m~/Desktop/Uni-Docs/Autonomous fahren kurs/CV Project/Pytorch_Project/.venv/lib/python3.9/site-packages/numpy/lib/npyio.py:436\u001b[0m, in \u001b[0;36mload\u001b[0;34m(file, mmap_mode, allow_pickle, fix_imports, encoding, max_header_size)\u001b[0m\n\u001b[1;32m    434\u001b[0m magic \u001b[39m=\u001b[39m fid\u001b[39m.\u001b[39mread(N)\n\u001b[1;32m    435\u001b[0m \u001b[39mif\u001b[39;00m \u001b[39mnot\u001b[39;00m magic:\n\u001b[0;32m--> 436\u001b[0m     \u001b[39mraise\u001b[39;00m \u001b[39mEOFError\u001b[39;00m(\u001b[39m\"\u001b[39m\u001b[39mNo data left in file\u001b[39m\u001b[39m\"\u001b[39m)\n\u001b[1;32m    437\u001b[0m \u001b[39m# If the file size is less than N, we need to make sure not\u001b[39;00m\n\u001b[1;32m    438\u001b[0m \u001b[39m# to seek past the beginning of the file\u001b[39;00m\n\u001b[1;32m    439\u001b[0m fid\u001b[39m.\u001b[39mseek(\u001b[39m-\u001b[39m\u001b[39mmin\u001b[39m(N, \u001b[39mlen\u001b[39m(magic)), \u001b[39m1\u001b[39m)  \u001b[39m# back-up\u001b[39;00m\n",
      "\u001b[0;31mEOFError\u001b[0m: No data left in file"
     ]
    }
   ],
   "source": [
    "training_data = np.load(\"training_data.npy\", allow_pickle=True)\n",
    "print(len(training_data))"
   ]
  },
  {
   "cell_type": "code",
   "execution_count": 58,
   "metadata": {},
   "outputs": [
    {
     "name": "stdout",
     "output_type": "stream",
     "text": [
      "torch.Size([1, 128, 2, 2])\n"
     ]
    }
   ],
   "source": [
    "import torch \n",
    "import torch.nn as nn\n",
    "import torch.nn.functional as F\n",
    "\n",
    "class Net(nn.Module):\n",
    "    \n",
    "    def __init__(self):\n",
    "        super().__init__()\n",
    "        self.conv1 = nn.Conv2d(1,32,5)\n",
    "        self.conv2 = nn.Conv2d(32, 64, 5)\n",
    "        self.conv3 = nn.Conv2d(64,128,5)\n",
    "\n",
    "        x = torch.randn(50,50).view(-1,1,50,50)\n",
    "        self._to_linear = None\n",
    "        self.convs(x)\n",
    "\n",
    "        self.fc1 = nn.Linear(self._to_linear,512)\n",
    "        self.fc2 = nn.Linear(512,2)\n",
    "\n",
    "    def convs(self, x):\n",
    "        x = F.max_pool2d(F.relu(self.conv1(x)), (2,2))\n",
    "        x = F.max_pool2d(F.relu(self.conv2(x)), (2,2))\n",
    "        x = F.max_pool2d(F.relu(self.conv3(x)), (2,2))\n",
    "\n",
    "        print(x.shape)\n",
    "        if self._to_linear is None:\n",
    "            self._to_linear = x[0].shape[0]*x[0].shape[1]*x[0].shape[2]\n",
    "        return x\n",
    "    \n",
    "    def forward(self, x):\n",
    "        x = self.convs(x)\n",
    "        x = x.view(-1, self._to_linear)\n",
    "        x = F.relu(self.fc1(x))\n",
    "        x = self.fc2(x)\n",
    "        return F.softmax(x, dim=1)\n",
    "    \n",
    "net = Net()"
   ]
  },
  {
   "cell_type": "code",
   "execution_count": 55,
   "metadata": {},
   "outputs": [
    {
     "data": {
      "text/plain": [
       "Net(\n",
       "  (conv1): Conv2d(1, 32, kernel_size=(5, 5), stride=(1, 1))\n",
       "  (conv2): Conv2d(32, 64, kernel_size=(5, 5), stride=(1, 1))\n",
       "  (conv3): Conv2d(64, 128, kernel_size=(5, 5), stride=(1, 1))\n",
       "  (fc1): Linear(in_features=512, out_features=512, bias=True)\n",
       "  (fc2): Linear(in_features=512, out_features=2, bias=True)\n",
       ")"
      ]
     },
     "execution_count": 55,
     "metadata": {},
     "output_type": "execute_result"
    }
   ],
   "source": [
    "net"
   ]
  },
  {
   "cell_type": "code",
   "execution_count": 59,
   "metadata": {},
   "outputs": [
    {
     "ename": "NameError",
     "evalue": "name 'training_data' is not defined",
     "output_type": "error",
     "traceback": [
      "\u001b[0;31m---------------------------------------------------------------------------\u001b[0m",
      "\u001b[0;31mNameError\u001b[0m                                 Traceback (most recent call last)",
      "Cell \u001b[0;32mIn[59], line 6\u001b[0m\n\u001b[1;32m      3\u001b[0m optimizer \u001b[39m=\u001b[39m optim\u001b[39m.\u001b[39mAdam(net\u001b[39m.\u001b[39mparameters(), lr \u001b[39m=\u001b[39m\u001b[39m0.001\u001b[39m)\n\u001b[1;32m      4\u001b[0m loss_function \u001b[39m=\u001b[39m nn\u001b[39m.\u001b[39mMSELoss()\n\u001b[0;32m----> 6\u001b[0m X \u001b[39m=\u001b[39m torch\u001b[39m.\u001b[39mTensor([i[\u001b[39m0\u001b[39m] \u001b[39mfor\u001b[39;00m i \u001b[39min\u001b[39;00m training_data])\u001b[39m.\u001b[39mview(\u001b[39m-\u001b[39m\u001b[39m1\u001b[39m,\u001b[39m60\u001b[39m,\u001b[39m60\u001b[39m)\n\u001b[1;32m      7\u001b[0m X \u001b[39m=\u001b[39m X\u001b[39m/\u001b[39m\u001b[39m255.0\u001b[39m\n\u001b[1;32m      8\u001b[0m Y \u001b[39m=\u001b[39m torch\u001b[39m.\u001b[39mTensor([i[\u001b[39m0\u001b[39m] \u001b[39mfor\u001b[39;00m i \u001b[39min\u001b[39;00m training_data])\n",
      "\u001b[0;31mNameError\u001b[0m: name 'training_data' is not defined"
     ]
    }
   ],
   "source": [
    "import torch.optim as optim\n",
    "\n",
    "optimizer = optim.Adam(net.parameters(), lr =0.001)\n",
    "loss_function = nn.MSELoss()\n",
    "\n",
    "X = torch.Tensor([i[0] for i in training_data]).view(-1,60,60)\n",
    "X = X/255.0\n",
    "Y = torch.Tensor([i[0] for i in training_data])\n",
    "\n",
    "VAL_PCT = 0.1 # Percentage of the validation dataset from the total x\n",
    "val_size = int(len(X)*VAL_PCT)\n",
    "print(val_size)"
   ]
  },
  {
   "cell_type": "code",
   "execution_count": 60,
   "metadata": {},
   "outputs": [
    {
     "ename": "NameError",
     "evalue": "name 'X' is not defined",
     "output_type": "error",
     "traceback": [
      "\u001b[0;31m---------------------------------------------------------------------------\u001b[0m",
      "\u001b[0;31mNameError\u001b[0m                                 Traceback (most recent call last)",
      "Cell \u001b[0;32mIn[60], line 1\u001b[0m\n\u001b[0;32m----> 1\u001b[0m train_X \u001b[39m=\u001b[39m X[:\u001b[39m-\u001b[39mval_size]\n\u001b[1;32m      2\u001b[0m train_Y \u001b[39m=\u001b[39m Y[:\u001b[39m-\u001b[39mval_size]\n\u001b[1;32m      4\u001b[0m test_X \u001b[39m=\u001b[39m X[\u001b[39m-\u001b[39mval_size:]\n",
      "\u001b[0;31mNameError\u001b[0m: name 'X' is not defined"
     ]
    }
   ],
   "source": [
    "train_X = X[:-val_size]\n",
    "train_Y = Y[:-val_size]\n",
    "\n",
    "test_X = X[-val_size:]\n",
    "test_Y = Y[-val_size:]"
   ]
  },
  {
   "cell_type": "code",
   "execution_count": 65,
   "metadata": {},
   "outputs": [
    {
     "ename": "NameError",
     "evalue": "name 'train_X' is not defined",
     "output_type": "error",
     "traceback": [
      "\u001b[0;31m---------------------------------------------------------------------------\u001b[0m",
      "\u001b[0;31mNameError\u001b[0m                                 Traceback (most recent call last)",
      "Cell \u001b[0;32mIn[65], line 5\u001b[0m\n\u001b[1;32m      2\u001b[0m EPOCHS \u001b[39m=\u001b[39m \u001b[39m1\u001b[39m\n\u001b[1;32m      4\u001b[0m \u001b[39mfor\u001b[39;00m epoch \u001b[39min\u001b[39;00m \u001b[39mrange\u001b[39m(EPOCHS):\n\u001b[0;32m----> 5\u001b[0m     \u001b[39mfor\u001b[39;00m i \u001b[39min\u001b[39;00m tqdm(\u001b[39mrange\u001b[39m(\u001b[39m0\u001b[39m,\u001b[39mlen\u001b[39m(train_X), BATCH_SIZE)):\n\u001b[1;32m      6\u001b[0m         \u001b[39mprint\u001b[39m(i, i\u001b[39m+\u001b[39mBATCH_SIZE)\n",
      "\u001b[0;31mNameError\u001b[0m: name 'train_X' is not defined"
     ]
    }
   ],
   "source": [
    "BATCH_SIZE = 100\n",
    "EPOCHS = 1\n",
    "\n",
    "for epoch in range(EPOCHS):\n",
    "    for i in tqdm(range(0,len(train_X), BATCH_SIZE)):\n",
    "        # print(i, i+BATCH_SIZE)\n",
    "        batch_x = train_X[i:i+BATCH_SIZE].view(-1,1,60,60)\n",
    "        batch_y = train_Y[i,i+BATCH_SIZE]\n",
    "\n",
    "        optimizer.zero_grad()\n",
    "        outputs = net(batch_x)\n",
    "        loss = loss_function(outputs, batch_y)\n",
    "        loss.backward()\n",
    "        optimizer.step()\n",
    "\n",
    "print(loss)"
   ]
  },
  {
   "cell_type": "code",
   "execution_count": null,
   "metadata": {},
   "outputs": [],
   "source": [
    "correct = 0\n",
    "total = 0\n",
    "\n",
    "with torch.no_grad():\n",
    "    for i in tqdm(range(len(test_X))):\n",
    "        real_class = torch.argmax(test_Y[i])\n",
    "        net_out = net(test_X[i].view(-1,1,60,60))[0]\n",
    "\n",
    "        predicted_class = torch.argmax(net_out)\n",
    "        if predicted_class == real_class:\n",
    "            correct += 1\n",
    "        total += 1\n",
    "\n",
    "print(\"Accuracy:\",round(correct/total,3))"
   ]
  }
 ],
 "metadata": {
  "kernelspec": {
   "display_name": ".venv",
   "language": "python",
   "name": "python3"
  },
  "language_info": {
   "codemirror_mode": {
    "name": "ipython",
    "version": 3
   },
   "file_extension": ".py",
   "mimetype": "text/x-python",
   "name": "python",
   "nbconvert_exporter": "python",
   "pygments_lexer": "ipython3",
   "version": "3.9.6"
  },
  "orig_nbformat": 4
 },
 "nbformat": 4,
 "nbformat_minor": 2
}
