{
 "cells": [
  {
   "cell_type": "code",
   "execution_count": 28,
   "metadata": {},
   "outputs": [],
   "source": [
    "import os\n",
    "import numpy as np\n",
    "import torchvision\n",
    "import torch\n",
    "import cv2\n",
    "from tqdm import tqdm"
   ]
  },
  {
   "cell_type": "code",
   "execution_count": 29,
   "metadata": {},
   "outputs": [],
   "source": [
    "# from io import StringIO, BytesIO, TextIOWrapper\n",
    "from zipfile import ZipFile \n",
    "\n",
    "# dataset = 'kagglewolvessanddogs_5340.zip'\n",
    "# zipfile = ZipFile(BytesIO(dataset.read()))\n",
    "with ZipFile('archive.zip','r') as zip_ref:\n",
    "    zip_ref.extractall('UpdatedDataset')\n"
   ]
  },
  {
   "cell_type": "code",
   "execution_count": 51,
   "metadata": {},
   "outputs": [
    {
     "name": "stdout",
     "output_type": "stream",
     "text": [
      "UpdatedDataset/data/wolves\n"
     ]
    },
    {
     "name": "stderr",
     "output_type": "stream",
     "text": [
      "  0%|          | 0/1000 [00:00<?, ?it/s]"
     ]
    },
    {
     "name": "stderr",
     "output_type": "stream",
     "text": [
      "100%|██████████| 1000/1000 [00:05<00:00, 185.55it/s]\n"
     ]
    },
    {
     "name": "stdout",
     "output_type": "stream",
     "text": [
      "UpdatedDataset/data/dogs\n"
     ]
    },
    {
     "name": "stderr",
     "output_type": "stream",
     "text": [
      "100%|██████████| 1000/1000 [00:01<00:00, 683.14it/s]\n"
     ]
    },
    {
     "ename": "ValueError",
     "evalue": "setting an array element with a sequence. The requested array has an inhomogeneous shape after 2 dimensions. The detected shape was (2000, 2) + inhomogeneous part.",
     "output_type": "error",
     "traceback": [
      "\u001b[0;31m---------------------------------------------------------------------------\u001b[0m",
      "\u001b[0;31mValueError\u001b[0m                                Traceback (most recent call last)",
      "Cell \u001b[0;32mIn[51], line 66\u001b[0m\n\u001b[1;32m     64\u001b[0m \u001b[39mif\u001b[39;00m REBUILD_DATA:\n\u001b[1;32m     65\u001b[0m     DogsVsWolves \u001b[39m=\u001b[39m DogsVsWolves()\n\u001b[0;32m---> 66\u001b[0m     DogsVsWolves\u001b[39m.\u001b[39;49mmake_training_data()\n",
      "Cell \u001b[0;32mIn[51], line 59\u001b[0m, in \u001b[0;36mDogsVsWolves.make_training_data\u001b[0;34m(self)\u001b[0m\n\u001b[1;32m     57\u001b[0m np\u001b[39m.\u001b[39mrandom\u001b[39m.\u001b[39mshuffle(\u001b[39mself\u001b[39m\u001b[39m.\u001b[39mtraining_data)\n\u001b[1;32m     58\u001b[0m \u001b[39m# print(self.training_data)\u001b[39;00m\n\u001b[0;32m---> 59\u001b[0m np\u001b[39m.\u001b[39;49msave(\u001b[39m\"\u001b[39;49m\u001b[39mtraining_data.npy\u001b[39;49m\u001b[39m\"\u001b[39;49m, \u001b[39mself\u001b[39;49m\u001b[39m.\u001b[39;49mtraining_data)\n\u001b[1;32m     60\u001b[0m \u001b[39mprint\u001b[39m(\u001b[39m\"\u001b[39m\u001b[39mWolves\u001b[39m\u001b[39m\"\u001b[39m, \u001b[39mself\u001b[39m\u001b[39m.\u001b[39mWolves_count)\n\u001b[1;32m     61\u001b[0m \u001b[39mprint\u001b[39m(\u001b[39m\"\u001b[39m\u001b[39mDogs\u001b[39m\u001b[39m\"\u001b[39m, \u001b[39mself\u001b[39m\u001b[39m.\u001b[39mDog_count)\n",
      "File \u001b[0;32m~/Desktop/Uni-Docs/Autonomous fahren kurs/CV Project/Pytorch_Project/.venv/lib/python3.9/site-packages/numpy/lib/npyio.py:545\u001b[0m, in \u001b[0;36msave\u001b[0;34m(file, arr, allow_pickle, fix_imports)\u001b[0m\n\u001b[1;32m    542\u001b[0m     file_ctx \u001b[39m=\u001b[39m \u001b[39mopen\u001b[39m(file, \u001b[39m\"\u001b[39m\u001b[39mwb\u001b[39m\u001b[39m\"\u001b[39m)\n\u001b[1;32m    544\u001b[0m \u001b[39mwith\u001b[39;00m file_ctx \u001b[39mas\u001b[39;00m fid:\n\u001b[0;32m--> 545\u001b[0m     arr \u001b[39m=\u001b[39m np\u001b[39m.\u001b[39;49masanyarray(arr)\n\u001b[1;32m    546\u001b[0m     \u001b[39mformat\u001b[39m\u001b[39m.\u001b[39mwrite_array(fid, arr, allow_pickle\u001b[39m=\u001b[39mallow_pickle,\n\u001b[1;32m    547\u001b[0m                        pickle_kwargs\u001b[39m=\u001b[39m\u001b[39mdict\u001b[39m(fix_imports\u001b[39m=\u001b[39mfix_imports))\n",
      "\u001b[0;31mValueError\u001b[0m: setting an array element with a sequence. The requested array has an inhomogeneous shape after 2 dimensions. The detected shape was (2000, 2) + inhomogeneous part."
     ]
    }
   ],
   "source": [
    "REBUILD_DATA = True\n",
    "\n",
    "deletable_file = []\n",
    "\n",
    "class DogsVsWolves():\n",
    "    IMG_SIZE = 60\n",
    "    Dogs = \"UpdatedDataset/data/dogs\"\n",
    "    Wolves = \"UpdatedDataset/data/wolves\"\n",
    "    LABELS = {Wolves: 0, Dogs: 1}\n",
    "\n",
    "    training_data =[]\n",
    "    Dog_count = 0\n",
    "    Wolves_count = 0\n",
    "\n",
    "    \n",
    "    def make_training_data(self):\n",
    "        for label in self.LABELS:\n",
    "            print(label)\n",
    "            for f in tqdm(os.listdir(label)):\n",
    "                try:    \n",
    "                    path = os.path.join(label,f)\n",
    "                    # print(path)\n",
    "\n",
    "                    img = cv2.imread(path, cv2.IMREAD_GRAYSCALE)\n",
    "\n",
    "                    try:\n",
    "                        img = cv2.resize(img,(self.IMG_SIZE, self.IMG_SIZE))\n",
    "                    except cv2.error as e:\n",
    "                        # print(\"Configure error\")\n",
    "                        continue\n",
    "\n",
    "                    label_encoded = np.eye(2)[self.LABELS[label]]\n",
    "                    \n",
    "                    # Ensure img is a 2D array\n",
    "                    img = np.array(img)\n",
    "                    \n",
    "                    \n",
    "                    try:\n",
    "                        self.training_data.append([img, label_encoded])\n",
    "                        # print(self.training_data)\n",
    "                    except cv2.error as e:\n",
    "                        pass\n",
    "\n",
    "                    if label == self.Wolves:\n",
    "                        self.Wolves_count += 1\n",
    "                    elif label == self.Dogs:\n",
    "                        self.Dog_count += 1\n",
    "\n",
    "                except Exception as e:\n",
    "                    # print(f\"Error loading image: {path} - {str(e)}\")\n",
    "                    pass\n",
    "\n",
    "        np.random.shuffle(self.training_data)\n",
    "        # print(self.training_data)\n",
    "        np.save(\"training_data.npy\", self.training_data)\n",
    "        print(\"Wolves\", self.Wolves_count)\n",
    "        print(\"Dogs\", self.Dog_count)\n",
    "\n",
    "\n",
    "if REBUILD_DATA:\n",
    "    DogsVsWolves = DogsVsWolves()\n",
    "    DogsVsWolves.make_training_data()\n"
   ]
  },
  {
   "cell_type": "code",
   "execution_count": 52,
   "metadata": {},
   "outputs": [
    {
     "ename": "EOFError",
     "evalue": "No data left in file",
     "output_type": "error",
     "traceback": [
      "\u001b[0;31m---------------------------------------------------------------------------\u001b[0m",
      "\u001b[0;31mEOFError\u001b[0m                                  Traceback (most recent call last)",
      "Cell \u001b[0;32mIn[52], line 1\u001b[0m\n\u001b[0;32m----> 1\u001b[0m training_data \u001b[39m=\u001b[39m np\u001b[39m.\u001b[39;49mload(\u001b[39m\"\u001b[39;49m\u001b[39mtraining_data.npy\u001b[39;49m\u001b[39m\"\u001b[39;49m, allow_pickle\u001b[39m=\u001b[39;49m\u001b[39mTrue\u001b[39;49;00m)\n\u001b[1;32m      2\u001b[0m \u001b[39mprint\u001b[39m(\u001b[39mlen\u001b[39m(training_data))\n",
      "File \u001b[0;32m~/Desktop/Uni-Docs/Autonomous fahren kurs/CV Project/Pytorch_Project/.venv/lib/python3.9/site-packages/numpy/lib/npyio.py:436\u001b[0m, in \u001b[0;36mload\u001b[0;34m(file, mmap_mode, allow_pickle, fix_imports, encoding, max_header_size)\u001b[0m\n\u001b[1;32m    434\u001b[0m magic \u001b[39m=\u001b[39m fid\u001b[39m.\u001b[39mread(N)\n\u001b[1;32m    435\u001b[0m \u001b[39mif\u001b[39;00m \u001b[39mnot\u001b[39;00m magic:\n\u001b[0;32m--> 436\u001b[0m     \u001b[39mraise\u001b[39;00m \u001b[39mEOFError\u001b[39;00m(\u001b[39m\"\u001b[39m\u001b[39mNo data left in file\u001b[39m\u001b[39m\"\u001b[39m)\n\u001b[1;32m    437\u001b[0m \u001b[39m# If the file size is less than N, we need to make sure not\u001b[39;00m\n\u001b[1;32m    438\u001b[0m \u001b[39m# to seek past the beginning of the file\u001b[39;00m\n\u001b[1;32m    439\u001b[0m fid\u001b[39m.\u001b[39mseek(\u001b[39m-\u001b[39m\u001b[39mmin\u001b[39m(N, \u001b[39mlen\u001b[39m(magic)), \u001b[39m1\u001b[39m)  \u001b[39m# back-up\u001b[39;00m\n",
      "\u001b[0;31mEOFError\u001b[0m: No data left in file"
     ]
    }
   ],
   "source": [
    "training_data = np.load(\"training_data.npy\", allow_pickle=True)\n",
    "print(len(training_data))"
   ]
  },
  {
   "cell_type": "code",
   "execution_count": null,
   "metadata": {},
   "outputs": [],
   "source": []
  }
 ],
 "metadata": {
  "kernelspec": {
   "display_name": ".venv",
   "language": "python",
   "name": "python3"
  },
  "language_info": {
   "codemirror_mode": {
    "name": "ipython",
    "version": 3
   },
   "file_extension": ".py",
   "mimetype": "text/x-python",
   "name": "python",
   "nbconvert_exporter": "python",
   "pygments_lexer": "ipython3",
   "version": "3.9.6"
  },
  "orig_nbformat": 4
 },
 "nbformat": 4,
 "nbformat_minor": 2
}
